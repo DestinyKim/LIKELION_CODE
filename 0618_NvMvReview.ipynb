{
 "cells": [
  {
   "cell_type": "code",
   "execution_count": 1,
   "metadata": {},
   "outputs": [],
   "source": [
    "from bs4 import BeautifulSoup\n",
    "from urllib.request import urlopen"
   ]
  },
  {
   "cell_type": "code",
   "execution_count": 2,
   "metadata": {},
   "outputs": [],
   "source": [
    "url = \"https://movie.naver.com/movie/running/current.nhn\"\n",
    "page = urlopen(url)\n",
    "soup = BeautifulSoup(page, 'lxml')"
   ]
  },
  {
   "cell_type": "code",
   "execution_count": 3,
   "metadata": {},
   "outputs": [
    {
     "data": {
      "text/plain": [
       "130"
      ]
     },
     "execution_count": 3,
     "metadata": {},
     "output_type": "execute_result"
    }
   ],
   "source": [
    "soup_ul_li = soup.find(\"ul\", class_=\"lst_detail_t1\").find_all(\"li\")\n",
    "len(soup_ul_li)"
   ]
  },
  {
   "cell_type": "markdown",
   "metadata": {},
   "source": [
    "#### 제목"
   ]
  },
  {
   "cell_type": "code",
   "execution_count": 5,
   "metadata": {},
   "outputs": [
    {
     "data": {
      "text/plain": [
       "'크루엘라'"
      ]
     },
     "execution_count": 5,
     "metadata": {},
     "output_type": "execute_result"
    }
   ],
   "source": [
    "soup_ul_li[0].find(\"dt\",class_='tit').a.text"
   ]
  },
  {
   "cell_type": "markdown",
   "metadata": {},
   "source": [
    "#### 평점"
   ]
  },
  {
   "cell_type": "code",
   "execution_count": 7,
   "metadata": {},
   "outputs": [
    {
     "data": {
      "text/plain": [
       "'9.33'"
      ]
     },
     "execution_count": 7,
     "metadata": {},
     "output_type": "execute_result"
    }
   ],
   "source": [
    "soup_ul_li[0].find(\"span\",class_='num').text"
   ]
  },
  {
   "cell_type": "markdown",
   "metadata": {},
   "source": [
    "#### 예매율"
   ]
  },
  {
   "cell_type": "code",
   "execution_count": 12,
   "metadata": {},
   "outputs": [
    {
     "data": {
      "text/plain": [
       "'19.64'"
      ]
     },
     "execution_count": 12,
     "metadata": {},
     "output_type": "execute_result"
    }
   ],
   "source": [
    "soup_ul_li[0].find(\"dl\",class_='info_exp').span.text"
   ]
  },
  {
   "cell_type": "code",
   "execution_count": 19,
   "metadata": {},
   "outputs": [
    {
     "ename": "AttributeError",
     "evalue": "'NoneType' object has no attribute 'span'",
     "output_type": "error",
     "traceback": [
      "\u001b[1;31m---------------------------------------------------------------------------\u001b[0m",
      "\u001b[1;31mAttributeError\u001b[0m                            Traceback (most recent call last)",
      "\u001b[1;32m<ipython-input-19-de01916ebcd6>\u001b[0m in \u001b[0;36m<module>\u001b[1;34m\u001b[0m\n\u001b[1;32m----> 1\u001b[1;33m \u001b[0msoup_ul_li\u001b[0m\u001b[1;33m[\u001b[0m\u001b[1;36m129\u001b[0m\u001b[1;33m]\u001b[0m\u001b[1;33m.\u001b[0m\u001b[0mfind\u001b[0m\u001b[1;33m(\u001b[0m\u001b[1;34m\"dl\"\u001b[0m\u001b[1;33m,\u001b[0m\u001b[0mclass_\u001b[0m\u001b[1;33m=\u001b[0m\u001b[1;34m'info_exp'\u001b[0m\u001b[1;33m)\u001b[0m\u001b[1;33m.\u001b[0m\u001b[0mspan\u001b[0m\u001b[1;33m.\u001b[0m\u001b[0mtext\u001b[0m\u001b[1;33m\u001b[0m\u001b[1;33m\u001b[0m\u001b[0m\n\u001b[0m",
      "\u001b[1;31mAttributeError\u001b[0m: 'NoneType' object has no attribute 'span'"
     ]
    }
   ],
   "source": [
    "soup_ul_li[129].find(\"dl\",class_='info_exp').span.text #예매율이 없는 부분이 발생!!!"
   ]
  },
  {
   "cell_type": "markdown",
   "metadata": {},
   "source": [
    "#### 참여인원"
   ]
  },
  {
   "cell_type": "code",
   "execution_count": 14,
   "metadata": {},
   "outputs": [
    {
     "data": {
      "text/plain": [
       "'4,634'"
      ]
     },
     "execution_count": 14,
     "metadata": {},
     "output_type": "execute_result"
    }
   ],
   "source": [
    "soup_ul_li[0].find(\"em\").text"
   ]
  },
  {
   "cell_type": "markdown",
   "metadata": {},
   "source": [
    "#### 감독"
   ]
  },
  {
   "cell_type": "code",
   "execution_count": 29,
   "metadata": {},
   "outputs": [
    {
     "data": {
      "text/plain": [
       "'크레이그 질레스피'"
      ]
     },
     "execution_count": 29,
     "metadata": {},
     "output_type": "execute_result"
    }
   ],
   "source": [
    "soup_ul_li[0].find(\"dl\",class_=\"info_txt1\").findAll(\"dd\")[1].text.strip()"
   ]
  },
  {
   "cell_type": "code",
   "execution_count": 38,
   "metadata": {},
   "outputs": [
    {
     "name": "stdout",
     "output_type": "stream",
     "text": [
      "['크레이그 질레스피', '존 크래신스키', '엔리코 카사로사', '마이클 차베즈', '소토자키 하루오', '이미영', '가이 리치', '저스틴 린', '코다이 카키모토', '유하', '미야자키 고로', '김혜미', '나탄 그로스만', '주순', '클로이 자오', '최윤태', 'P.B. 셰므란', '홍성은', '히로타 유스케', '크리스토스 니코우', '마크 웹', '이정곤', '황승재', '홍상수', '우디 앨런', '권우정', '플로리안 젤러', '바르보라 차르포바, 비트 클루삭', '민환기', '왕가위', '이선명', '신카이 마코토', '선희 엥겔스토프', '미키 타카히로', '조엘 크로포드', '김정인', '앤더스 토마스 옌센', '정이삭', '왕가위', '나가오카 치카', '홍상수', '테오 코트', '야기 류이치, 야마자키 다카시', '닉 로우랜드', '헤더 렌즈', '신카이 마코토', '아릴드 오스틴 아문센, 실리에 살로몬센', '신카이 마코토', '이환', '이창원, 권성모', '지아장커', '로버트 로드리게즈', '팀 버튼', '크리스토퍼 맥브라이드', '롭 코헨', '레니 할린', '강호준', '김상철', '이상일', '페르닐레 피셔 크리스텐센', '야스밀라 즈바니치', '모토히로 카츠유키', '드니 빌뇌브', '이시즈카 아츠코', '김동일', '우디 앨런', '말릭 벤젤룰', '이정국', '오오토모 케이시', '오즈 야스지로', '사이토 케이이치, 야스시  가와무라', '신카이 마코토', '기타노 다케시', '압바스 키아로스타미', '오즈 야스지로', '오오모리 타카히로, 이토 히데키', '니콜라스 레이', '압바스 키아로스타미', '박윤진', '김충길', '방수인', '홍상수', '오즈 야스지로', '박배일', '사카이 카즈오', '리차드 커티스', '폴 토마스 앤더슨', '남승석', '웨스 앤더슨', '자코 반 도마엘', '압바스 키아로스타미', '전계수', '나운규', '신카이 마코토', '전고운', '윤성준', '해리 맥퀸', '틸러 러셀', '마미 스나다', '오정석', '마이클 포웰, 에머릭 프레스버거', '고레에다 히로카즈', '파올로 소렌티노', '아리 에스터', '후쿠다 유이치', '후쿠다 유이치', '오카다 마리', '안드레 드 토스', '김상민', '진승현', '임흥순', '김초희', '플렉스 할그렌', '정성일', '압바스 키아로스타미', '오즈 야스지로', '셀린 시아마', '최창환', '짐 자무쉬', '스도 토모노리', '션 베이커', '왕가위', '박홍민', '김기영', '자크 데미', '브렛 설리반', '퍼시 애들론', '자크 데미', '카와구치 케이이치로', '안토니오 니그렛']\n"
     ]
    }
   ],
   "source": [
    "soup_ul_li = soup.find(\"ul\", class_=\"lst_detail_t1\").find_all(\"li\")\n",
    "\n",
    "all_title = []\n",
    "all_score = []\n",
    "all_peopel = []\n",
    "all_rate = []\n",
    "all_director = []\n",
    "\n",
    "for one_li in soup_ul_li:\n",
    "    one_title = one_li.find(\"dt\",class_='tit').a.text # 제목\n",
    "    one_score = one_li.find(\"span\",class_='num').text #평점\n",
    "    one_people = one_li.find(\"em\").text               #참여인원\n",
    "    \n",
    "    tmp_rate = one_li.find(\"dl\",class_='info_exp') #예매율은 값이 없는 부분이 있어서\n",
    "    if tmp_rate is not None:                        \n",
    "        one_rate = one_li.find(\"dl\",class_='info_exp').span.text # 값이 있는 부분은 채워줌.\n",
    "    else:\n",
    "        one_rate = '0'  #없는 부분은 '0'으로 처리해줌.\n",
    "    \n",
    "    # 감독\n",
    "    one_director = one_li.find(\"dl\", class_=\"info_txt1\").findAll(\"dd\")[1].text\n",
    "    one_director = one_director.translate(  { ord('\\n'):\"\", ord('\\r'):\"\", ord('\\t'):\"\"} )\n",
    "    \n",
    "#     all_title.append(one_title)\n",
    "    all_title.append(one_title)\n",
    "    all_score.append(one_score)\n",
    "    all_peopel.append(one_people)\n",
    "    all_rate.append(one_rate) \n",
    "    all_director.append(one_director)\n",
    "    \n",
    "print(all_director)"
   ]
  },
  {
   "cell_type": "code",
   "execution_count": null,
   "metadata": {},
   "outputs": [],
   "source": []
  }
 ],
 "metadata": {
  "kernelspec": {
   "display_name": "Python 3",
   "language": "python",
   "name": "python3"
  },
  "language_info": {
   "codemirror_mode": {
    "name": "ipython",
    "version": 3
   },
   "file_extension": ".py",
   "mimetype": "text/x-python",
   "name": "python",
   "nbconvert_exporter": "python",
   "pygments_lexer": "ipython3",
   "version": "3.8.5"
  }
 },
 "nbformat": 4,
 "nbformat_minor": 4
}
