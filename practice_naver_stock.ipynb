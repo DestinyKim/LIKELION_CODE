{
 "cells": [
  {
   "cell_type": "code",
   "execution_count": 78,
   "metadata": {},
   "outputs": [],
   "source": [
    "from urllib.request import urlopen\n",
    "from bs4 import BeautifulSoup"
   ]
  },
  {
   "cell_type": "code",
   "execution_count": 2,
   "metadata": {},
   "outputs": [],
   "source": [
    "url = \"https://finance.naver.com/sise/\"\n",
    "\n",
    "page = urlopen(url)\n",
    "soup = BeautifulSoup(page, 'html.parser')"
   ]
  },
  {
   "cell_type": "code",
   "execution_count": 3,
   "metadata": {},
   "outputs": [
    {
     "data": {
      "text/plain": [
       "<title>국내증시 : 네이버 금융</title>"
      ]
     },
     "execution_count": 3,
     "metadata": {},
     "output_type": "execute_result"
    }
   ],
   "source": [
    "soup.title"
   ]
  },
  {
   "cell_type": "code",
   "execution_count": 22,
   "metadata": {},
   "outputs": [
    {
     "data": {
      "text/plain": [
       "<li><em>1.</em><a href=\"/item/main.nhn?code=293490\" onclick=\"clickcr(this,'boa.list','293490','1',event)\">카카오게임즈</a><span class=\"up\">70,800</span><em class=\"bu_p bu_pup\"><span class=\"blind\">상승</span></em></li>"
      ]
     },
     "execution_count": 22,
     "metadata": {},
     "output_type": "execute_result"
    }
   ],
   "source": [
    "soup.find('ul',id='popularItemList').find_all('li')[0]"
   ]
  },
  {
   "cell_type": "code",
   "execution_count": 37,
   "metadata": {},
   "outputs": [
    {
     "name": "stdout",
     "output_type": "stream",
     "text": [
      "<title>카카오게임즈 : 네이버 금융</title>\n",
      "<title>진원생명과학 : 네이버 금융</title>\n",
      "<title>이연제약 : 네이버 금융</title>\n",
      "<title>삼성전자 : 네이버 금융</title>\n",
      "<title>카카오 : 네이버 금융</title>\n",
      "<title>펄어비스 : 네이버 금융</title>\n",
      "<title>HMM : 네이버 금융</title>\n",
      "<title>SK바이오팜 : 네이버 금융</title>\n",
      "<title>두산중공업 : 네이버 금융</title>\n",
      "<title>바이오니아 : 네이버 금융</title>\n"
     ]
    }
   ],
   "source": [
    "### 인기 검색 종목 부분\n",
    "\n",
    "pop = soup.find('ul',id='popularItemList')\n",
    "pop_list = pop.find_all('li')\n",
    "\n",
    "stock_names = []\n",
    "stock_current_prices = []\n",
    "up_downs = []\n",
    "\n",
    "for one in pop_list:\n",
    "    stock_name = one.find('a').text\n",
    "    stock_names.append(stock_name) # 종목명\n",
    "    \n",
    "    stock_price = one.find('span').text\n",
    "    stock_current_prices.append(stock_price) # 종목가격\n",
    "    \n",
    "    up_down = one.find('span', class_='blind').text\n",
    "    up_downs.append(up_down) # 상승/하락\n",
    "    \n",
    "#     code = one.find('a')['href'][-6:]\n",
    "#     base_url='https://finance.naver.com/item/main.nhn?code='+code\n",
    "    \n",
    "#     page2 = urlopen(base_url)\n",
    "#     soup2 = BeautifulSoup(page2, 'html.parser')\n",
    "#     print(soup2.title)\n",
    "    \n",
    "#     soup2.\n"
   ]
  },
  {
   "cell_type": "code",
   "execution_count": 38,
   "metadata": {},
   "outputs": [],
   "source": [
    "import pandas as pd"
   ]
  },
  {
   "cell_type": "code",
   "execution_count": 39,
   "metadata": {},
   "outputs": [
    {
     "data": {
      "text/html": [
       "<div>\n",
       "<style scoped>\n",
       "    .dataframe tbody tr th:only-of-type {\n",
       "        vertical-align: middle;\n",
       "    }\n",
       "\n",
       "    .dataframe tbody tr th {\n",
       "        vertical-align: top;\n",
       "    }\n",
       "\n",
       "    .dataframe thead th {\n",
       "        text-align: right;\n",
       "    }\n",
       "</style>\n",
       "<table border=\"1\" class=\"dataframe\">\n",
       "  <thead>\n",
       "    <tr style=\"text-align: right;\">\n",
       "      <th></th>\n",
       "      <th>종목명</th>\n",
       "      <th>현재가</th>\n",
       "      <th>상하여력</th>\n",
       "    </tr>\n",
       "  </thead>\n",
       "  <tbody>\n",
       "    <tr>\n",
       "      <th>0</th>\n",
       "      <td>카카오게임즈</td>\n",
       "      <td>70,800</td>\n",
       "      <td>상승</td>\n",
       "    </tr>\n",
       "    <tr>\n",
       "      <th>1</th>\n",
       "      <td>진원생명과학</td>\n",
       "      <td>48,700</td>\n",
       "      <td>상승</td>\n",
       "    </tr>\n",
       "    <tr>\n",
       "      <th>2</th>\n",
       "      <td>이연제약</td>\n",
       "      <td>57,500</td>\n",
       "      <td>상승</td>\n",
       "    </tr>\n",
       "    <tr>\n",
       "      <th>3</th>\n",
       "      <td>삼성전자</td>\n",
       "      <td>80,100</td>\n",
       "      <td>보합</td>\n",
       "    </tr>\n",
       "    <tr>\n",
       "      <th>4</th>\n",
       "      <td>카카오</td>\n",
       "      <td>159,500</td>\n",
       "      <td>하락</td>\n",
       "    </tr>\n",
       "    <tr>\n",
       "      <th>5</th>\n",
       "      <td>펄어비스</td>\n",
       "      <td>84,300</td>\n",
       "      <td>상승</td>\n",
       "    </tr>\n",
       "    <tr>\n",
       "      <th>6</th>\n",
       "      <td>HMM</td>\n",
       "      <td>45,050</td>\n",
       "      <td>상승</td>\n",
       "    </tr>\n",
       "    <tr>\n",
       "      <th>7</th>\n",
       "      <td>SK바이오팜</td>\n",
       "      <td>134,500</td>\n",
       "      <td>상승</td>\n",
       "    </tr>\n",
       "    <tr>\n",
       "      <th>8</th>\n",
       "      <td>두산중공업</td>\n",
       "      <td>24,750</td>\n",
       "      <td>하락</td>\n",
       "    </tr>\n",
       "    <tr>\n",
       "      <th>9</th>\n",
       "      <td>바이오니아</td>\n",
       "      <td>25,650</td>\n",
       "      <td>상승</td>\n",
       "    </tr>\n",
       "  </tbody>\n",
       "</table>\n",
       "</div>"
      ],
      "text/plain": [
       "      종목명      현재가 상하여력\n",
       "0  카카오게임즈   70,800   상승\n",
       "1  진원생명과학   48,700   상승\n",
       "2    이연제약   57,500   상승\n",
       "3    삼성전자   80,100   보합\n",
       "4     카카오  159,500   하락\n",
       "5    펄어비스   84,300   상승\n",
       "6     HMM   45,050   상승\n",
       "7  SK바이오팜  134,500   상승\n",
       "8   두산중공업   24,750   하락\n",
       "9   바이오니아   25,650   상승"
      ]
     },
     "execution_count": 39,
     "metadata": {},
     "output_type": "execute_result"
    }
   ],
   "source": [
    "dat = {'종목명':stock_names,'현재가':stock_current_prices, '상하여력':up_downs}\n",
    "dat = pd.DataFrame(dat)\n",
    "dat"
   ]
  },
  {
   "cell_type": "markdown",
   "metadata": {},
   "source": [
    "### Top종목"
   ]
  },
  {
   "cell_type": "code",
   "execution_count": 159,
   "metadata": {},
   "outputs": [
    {
     "name": "stdout",
     "output_type": "stream",
     "text": [
      "[<table cellpadding=\"0\" cellspacing=\"0\" class=\"type_2\" id=\"siselist_tab_0\" summary=\"탑종목 상한가 리스트\">\n",
      "<caption>상한가</caption>\n",
      "<col width=\"4%\"/>\n",
      "<col width=\"4%\"/>\n",
      "<col width=\"4%\"/>\n",
      "<col width=\"*\"/>\n",
      "<col width=\"7%\"/>\n",
      "<col width=\"9%\"/>\n",
      "<col width=\"7%\"/>\n",
      "<col width=\"12%\"/>\n",
      "<col width=\"12%\"/>\n",
      "<col width=\"12%\"/>\n",
      "<col width=\"12%\"/>\n",
      "<tr>\n",
      "<th>순위</th>\n",
      "<th>연속</th>\n",
      "<th>누적</th>\n",
      "<th>종목명</th>\n",
      "<th>현재가</th>\n",
      "<th class=\"tr\">전일비  </th>\n",
      "<th>등락률</th>\n",
      "<th>거래량</th>\n",
      "<th>시가</th>\n",
      "<th>고가</th>\n",
      "<th>저가</th>\n",
      "</tr>\n",
      "<tr><td class=\"blank_08\" colspan=\"10\"></td></tr>\n",
      "<tr>\n",
      "<td class=\"tc\"><img alt=\"01\" height=\"11\" src=\"https://ssl.pstatic.net/imgstock/images5/ico_n01.gif\" width=\"11\"/></td>\n",
      "<td class=\"number\">1</td>\n",
      "<td class=\"number\">2</td>\n",
      "<td><a class=\"tltle\" href=\"/item/main.nhn?code=014285\" onclick=\"clickcr(this, 'bqu.2', '014285', '1', event)\">금강공업우</a></td>\n",
      "<td class=\"number\">18,950</td>\n",
      "<td class=\"number\">\n",
      "<em class=\"bu_p bu_pup2\" style=\"margin:0 4px 0 0\"><span class=\"blind\">상한</span></em><span class=\"tah p11 red01\">\n",
      "\t\t\t\t4,350\n",
      "\t\t\t\t</span>\n",
      "</td>\n",
      "<td class=\"number\">\n",
      "<span class=\"tah p11 red01\">\n",
      "\t\t\t\t+29.79%\n",
      "\t\t\t\t</span>\n",
      "</td>\n",
      "<td class=\"number\">211,792</td>\n",
      "<td class=\"number\">14,800</td>\n",
      "<td class=\"number\">18,950</td>\n",
      "<td class=\"number\">14,800</td>\n",
      "</tr>\n",
      "<tr>\n",
      "<td class=\"tc\"><img alt=\"01\" height=\"11\" src=\"https://ssl.pstatic.net/imgstock/images5/ico_n02.gif\" width=\"11\"/></td>\n",
      "<td class=\"number\">1</td>\n",
      "<td class=\"number\">1</td>\n",
      "<td><a class=\"tltle\" href=\"/item/main.nhn?code=041960\" onclick=\"clickcr(this, 'bqu.2', '041960', '2', event)\">코미팜</a></td>\n",
      "<td class=\"number\">14,350</td>\n",
      "<td class=\"number\">\n",
      "<em class=\"bu_p bu_pup2\" style=\"margin:0 4px 0 0\"><span class=\"blind\">상한</span></em><span class=\"tah p11 red01\">\n",
      "\t\t\t\t3,300\n",
      "\t\t\t\t</span>\n",
      "</td>\n",
      "<td class=\"number\">\n",
      "<span class=\"tah p11 red01\">\n",
      "\t\t\t\t+29.86%\n",
      "\t\t\t\t</span>\n",
      "</td>\n",
      "<td class=\"number\">5,999,523</td>\n",
      "<td class=\"number\">11,000</td>\n",
      "<td class=\"number\">14,350</td>\n",
      "<td class=\"number\">11,000</td>\n",
      "</tr>\n",
      "<tr>\n",
      "<td class=\"tc\"><img alt=\"01\" height=\"11\" src=\"https://ssl.pstatic.net/imgstock/images5/ico_n03.gif\" width=\"11\"/></td>\n",
      "<td class=\"number\">2</td>\n",
      "<td class=\"number\">6</td>\n",
      "<td><a class=\"tltle\" href=\"/item/main.nhn?code=044180\" onclick=\"clickcr(this, 'bqu.2', '044180', '3', event)\">KD</a></td>\n",
      "<td class=\"number\">2,455</td>\n",
      "<td class=\"number\">\n",
      "<em class=\"bu_p bu_pup2\" style=\"margin:0 4px 0 0\"><span class=\"blind\">상한</span></em><span class=\"tah p11 red01\">\n",
      "\t\t\t\t565\n",
      "\t\t\t\t</span>\n",
      "</td>\n",
      "<td class=\"number\">\n",
      "<span class=\"tah p11 red01\">\n",
      "\t\t\t\t+29.89%\n",
      "\t\t\t\t</span>\n",
      "</td>\n",
      "<td class=\"number\">5,638,616</td>\n",
      "<td class=\"number\">2,350</td>\n",
      "<td class=\"number\">2,455</td>\n",
      "<td class=\"number\">2,240</td>\n",
      "</tr>\n",
      "<tr>\n",
      "<td class=\"tc\"><img alt=\"01\" height=\"11\" src=\"https://ssl.pstatic.net/imgstock/images5/ico_n04.gif\" width=\"11\"/></td>\n",
      "<td class=\"number\">1</td>\n",
      "<td class=\"number\">1</td>\n",
      "<td><a class=\"tltle\" href=\"/item/main.nhn?code=187270\" onclick=\"clickcr(this, 'bqu.2', '187270', '4', event)\">신화콘텍</a></td>\n",
      "<td class=\"number\">6,130</td>\n",
      "<td class=\"number\">\n",
      "<em class=\"bu_p bu_pup2\" style=\"margin:0 4px 0 0\"><span class=\"blind\">상한</span></em><span class=\"tah p11 red01\">\n",
      "\t\t\t\t1,410\n",
      "\t\t\t\t</span>\n",
      "</td>\n",
      "<td class=\"number\">\n",
      "<span class=\"tah p11 red01\">\n",
      "\t\t\t\t+29.87%\n",
      "\t\t\t\t</span>\n",
      "</td>\n",
      "<td class=\"number\">3,511,784</td>\n",
      "<td class=\"number\">6,130</td>\n",
      "<td class=\"number\">6,130</td>\n",
      "<td class=\"number\">5,850</td>\n",
      "</tr>\n",
      "<tr>\n",
      "<td class=\"tc\"><img alt=\"01\" height=\"11\" src=\"https://ssl.pstatic.net/imgstock/images5/ico_n05.gif\" width=\"11\"/></td>\n",
      "<td class=\"number\">1</td>\n",
      "<td class=\"number\">1</td>\n",
      "<td><a class=\"tltle\" href=\"/item/main.nhn?code=331380\" onclick=\"clickcr(this, 'bqu.2', '331380', '5', event)\">유진스팩5호</a></td>\n",
      "<td class=\"number\">4,900</td>\n",
      "<td class=\"number\">\n",
      "<em class=\"bu_p bu_pup2\" style=\"margin:0 4px 0 0\"><span class=\"blind\">상한</span></em><span class=\"tah p11 red01\">\n",
      "\t\t\t\t1,130\n",
      "\t\t\t\t</span>\n",
      "</td>\n",
      "<td class=\"number\">\n",
      "<span class=\"tah p11 red01\">\n",
      "\t\t\t\t+29.97%\n",
      "\t\t\t\t</span>\n",
      "</td>\n",
      "<td class=\"number\">12,111,630</td>\n",
      "<td class=\"number\">3,770</td>\n",
      "<td class=\"number\">4,900</td>\n",
      "<td class=\"number\">3,320</td>\n",
      "</tr>\n",
      "<tr><td class=\"blank_06\" colspan=\"10\"></td></tr>\n",
      "<tr><td class=\"division_line\" colspan=\"10\"></td></tr>\n",
      "<tr><td class=\"blank_08\" colspan=\"10\"></td></tr>\n",
      "<tr>\n",
      "<td class=\"tc\"><img alt=\"01\" height=\"11\" src=\"https://ssl.pstatic.net/imgstock/images5/ico_n06.gif\" width=\"11\"/></td>\n",
      "<td class=\"number\">1</td>\n",
      "<td class=\"number\">2</td>\n",
      "<td><a class=\"tltle\" href=\"/item/main.nhn?code=379390\" onclick=\"clickcr(this, 'bqu.2', '379390', '6', event)\">이성씨엔아이</a></td>\n",
      "<td class=\"number\">9,780</td>\n",
      "<td class=\"number\">\n",
      "<em class=\"bu_p bu_pup2\" style=\"margin:0 4px 0 0\"><span class=\"blind\">상한</span></em><span class=\"tah p11 red01\">\n",
      "\t\t\t\t1,270\n",
      "\t\t\t\t</span>\n",
      "</td>\n",
      "<td class=\"number\">\n",
      "<span class=\"tah p11 red01\">\n",
      "\t\t\t\t+14.92%\n",
      "\t\t\t\t</span>\n",
      "</td>\n",
      "<td class=\"number\">9</td>\n",
      "<td class=\"number\">9,780</td>\n",
      "<td class=\"number\">9,780</td>\n",
      "<td class=\"number\">9,100</td>\n",
      "</tr>\n",
      "<tr><td class=\"blank_06\" colspan=\"10\"></td></tr>\n",
      "<tr><td class=\"division_line\" colspan=\"10\"></td></tr>\n",
      "</table>]\n"
     ]
    }
   ],
   "source": [
    "top_list = soup.select('#siselist_tab_0')\n",
    "print(top_list)"
   ]
  },
  {
   "cell_type": "code",
   "execution_count": 213,
   "metadata": {},
   "outputs": [
    {
     "name": "stdout",
     "output_type": "stream",
     "text": [
      "<td class=\"number\">1</td>\n",
      "<td class=\"number\">1</td>\n",
      "<td class=\"number\">6</td>\n"
     ]
    }
   ],
   "source": [
    "top_list = soup.select('#siselist_tab_0')\n",
    "# print(top_list)\n",
    "\n",
    "idxs = [] # 순위\n",
    "continuities = [] # 연속\n",
    "accumulates = [] # 누적\n",
    "top_stock_names = [] # 종목명\n",
    "top_stock_name_prices = [] # 현재가\n",
    "com_with_yess = [] # 전일비\n",
    "fluc_rates = [] # 등락률\n",
    "trad_volumes = [] # 거래량\n",
    "starts = [] # 시가\n",
    "highs = [] # 고가\n",
    "lows = [] # 저가\n",
    " \n",
    "for one in top_list:\n",
    "    i = one.find_all('img')\n",
    "    for idx in range (0,6):\n",
    "        num = i[idx]['src'][-5]\n",
    "        idxs.append(num)\n",
    "\n",
    "    con = one.find_all('td',class_='number')\n",
    "    print(con[0])\n",
    "    print(con[10])\n",
    "    print(con[19])\n",
    "    \n",
    "\n"
   ]
  },
  {
   "cell_type": "code",
   "execution_count": null,
   "metadata": {},
   "outputs": [],
   "source": [
    "##siselist_tab_0 > tbody > tr:nth-child(3) > td:nth-child(2)\n",
    "<td class=\"number\">1</td>\n",
    "//*[@id=\"siselist_tab_0\"]/tbody/tr[4]/td[2]\n",
    "\n",
    "#siselist_tab_0 > tbody > tr:nth-child(4) > td:nth-child(2)"
   ]
  },
  {
   "cell_type": "code",
   "execution_count": null,
   "metadata": {},
   "outputs": [],
   "source": []
  }
 ],
 "metadata": {
  "kernelspec": {
   "display_name": "Python 3",
   "language": "python",
   "name": "python3"
  },
  "language_info": {
   "codemirror_mode": {
    "name": "ipython",
    "version": 3
   },
   "file_extension": ".py",
   "mimetype": "text/x-python",
   "name": "python",
   "nbconvert_exporter": "python",
   "pygments_lexer": "ipython3",
   "version": "3.8.5"
  }
 },
 "nbformat": 4,
 "nbformat_minor": 4
}
