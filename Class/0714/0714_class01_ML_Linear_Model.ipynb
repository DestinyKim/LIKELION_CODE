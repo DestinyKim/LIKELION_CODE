{
 "cells": [
  {
   "cell_type": "markdown",
   "metadata": {},
   "source": [
    "### Linear Model 예측하고자 하는 모델이 수치형 일때"
   ]
  },
  {
   "cell_type": "code",
   "execution_count": 1,
   "metadata": {},
   "outputs": [],
   "source": [
    "### 한글 폰트 설정\n",
    "import matplotlib\n",
    "from matplotlib import font_manager, rc\n",
    "import matplotlib.pyplot as plt\n",
    "import platform\n",
    "\n",
    "path = \"C:/Windows/Fonts/malgun.ttf\"\n",
    "if platform.system() == \"Windows\":\n",
    "    font_name = font_manager.FontProperties(fname=path).get_name()\n",
    "    rc('font', family=font_name)\n",
    "elif platform.system()==\"Darwin\":\n",
    "    rc('font', family='AppleGothic')\n",
    "else:\n",
    "    print(\"Unknown System\")\n",
    "    \n",
    "matplotlib.rcParams['axes.unicode_minus'] = False\n",
    "\n",
    "%matplotlib inline"
   ]
  },
  {
   "cell_type": "code",
   "execution_count": 2,
   "metadata": {},
   "outputs": [
    {
     "name": "stdout",
     "output_type": "stream",
     "text": [
      "1.19.2\n",
      "3.3.2\n"
     ]
    }
   ],
   "source": [
    "import numpy as np\n",
    "import matplotlib.pyplot as plt\n",
    "import matplotlib\n",
    "print(np.__version__)\n",
    "print(matplotlib.__version__)"
   ]
  },
  {
   "cell_type": "code",
   "execution_count": 5,
   "metadata": {},
   "outputs": [],
   "source": [
    "from sklearn.model_selection import train_test_split\n",
    "from sklearn.linear_model import LinearRegression\n",
    "import mglearn"
   ]
  },
  {
   "cell_type": "markdown",
   "metadata": {},
   "source": [
    "### 특성이 하나 일때의 선형 함수"
   ]
  },
  {
   "cell_type": "code",
   "execution_count": 6,
   "metadata": {},
   "outputs": [
    {
     "name": "stdout",
     "output_type": "stream",
     "text": [
      "w[0]: 0.393906  b: -0.031804\n"
     ]
    },
    {
     "data": {
      "image/png": "[encoded data removed]",
      "text/plain": [
       "<Figure size 576x576 with 1 Axes>"
      ]
     },
     "metadata": {
      "needs_background": "light"
     },
     "output_type": "display_data"
    }
   ],
   "source": [
    "mglearn.plots.plot_linear_regression_wave()"
   ]
  },
  {
   "cell_type": "code",
   "execution_count": 7,
   "metadata": {},
   "outputs": [],
   "source": [
    "from sklearn.linear_model import LinearRegression"
   ]
  },
  {
   "cell_type": "code",
   "execution_count": 8,
   "metadata": {},
   "outputs": [],
   "source": [
    "from sklearn.datasets import load_boston"
   ]
  },
  {
   "cell_type": "code",
   "execution_count": 9,
   "metadata": {},
   "outputs": [],
   "source": [
    "boston = load_boston()\n",
    "X = boston.data   # 입력 - 문제\n",
    "y = boston.target   # 출력 - 답"
   ]
  },
  {
   "cell_type": "markdown",
   "metadata": {},
   "source": [
    "### 데이터 나누기\n",
    " * 학습 데이터\n",
    " * 테스트 데이터"
   ]
  },
  {
   "cell_type": "code",
   "execution_count": 44,
   "metadata": {},
   "outputs": [],
   "source": [
    "X_train, X_test, y_train, y_test = train_test_split(X, y,\n",
    "                                                    random_state = 42)"
   ]
  },
  {
   "cell_type": "code",
   "execution_count": 45,
   "metadata": {},
   "outputs": [
    {
     "data": {
      "text/plain": [
       "array([28.83885359, 36.00783288, 15.08324755, 25.23090886, 18.87864064,\n",
       "       23.21398327, 17.5931124 , 14.30508093, 23.05438985, 20.62008346,\n",
       "       24.78514683, 18.66833668, -6.9788951 , 21.83575737, 19.20898992,\n",
       "       26.2868054 , 20.54379176,  5.65713224, 40.42358065, 17.64146116,\n",
       "       27.32258958, 30.05056174, 11.15013704, 24.11530393, 17.89145648,\n",
       "       15.79348591, 22.94743453, 14.2586068 , 22.26731194, 19.24709013,\n",
       "       22.26897546, 25.24344002, 25.69165643, 17.98759507, 16.70286649,\n",
       "       17.11631225, 31.19643534, 20.17835831, 23.71828436, 24.79196868,\n",
       "       13.94575895, 32.00389982, 42.53869791, 17.44523722, 27.15354457,\n",
       "       17.07482215, 13.89272021, 26.06440323, 20.36888769, 29.97813037,\n",
       "       21.35346608, 34.32287916, 15.88498671, 26.17757739, 39.50970314,\n",
       "       22.84123308, 18.95049088, 32.68913818, 25.02057949, 12.90539147,\n",
       "       22.76052302, 30.53884316, 31.60797905, 15.92162168, 20.50670563,\n",
       "       16.50798147, 20.50202198, 26.00723901, 30.63860954, 11.42877835,\n",
       "       20.53765181, 27.56249175, 10.85162601, 15.96871769, 23.87570192,\n",
       "        5.66369672, 21.47818991, 41.2820034 , 18.56559986,  9.08857252,\n",
       "       20.97848452, 13.0630057 , 20.99054395,  9.34050291, 23.13686588,\n",
       "       31.80106627, 19.10245917, 25.59186169, 29.14490119, 20.17571514,\n",
       "       25.5962149 ,  5.20301905, 20.16835681, 15.08546746, 12.8601543 ,\n",
       "       20.80904894, 24.68556943, -0.77450939, 13.33875673, 15.62703156,\n",
       "       22.21755358, 24.58188737, 10.77302163, 19.50068376, 23.23450396,\n",
       "       11.77388822, 18.36777924, 25.4383785 , 20.89079232, 24.08440617,\n",
       "        7.3658717 , 19.16424347, 21.93734133, 27.41191713, 32.50857196,\n",
       "       14.86885244, 35.05912525, 12.86075113, 20.83043572, 28.42077138,\n",
       "       15.65853688, 24.67196362,  3.28420892, 23.79879617, 25.73329894,\n",
       "       23.04815612, 24.73046824])"
      ]
     },
     "execution_count": 45,
     "metadata": {},
     "output_type": "execute_result"
    }
   ],
   "source": [
    "# model = LinearRegression().fit(X_train, y_train)\n",
    "model = LinearRegression()\n",
    "model.fit(X_train, y_train)\n",
    "pred = model.predict(X_test)\n",
    "pred"
   ]
  },
  {
   "cell_type": "code",
   "execution_count": 46,
   "metadata": {},
   "outputs": [],
   "source": [
    "### MAE : Mean Absolute Error\n",
    "### MSE : Mean Squared Error\n",
    "### RMSE : Root Mean Squared Error\n",
    "### RMLSE :  Root Mean Square Logarithmic Error"
   ]
  },
  {
   "cell_type": "code",
   "execution_count": 47,
   "metadata": {},
   "outputs": [],
   "source": [
    "import pandas as pd"
   ]
  },
  {
   "cell_type": "code",
   "execution_count": 48,
   "metadata": {},
   "outputs": [
    {
     "data": {
      "text/html": [
       "<div>\n",
       "<style scoped>\n",
       "    .dataframe tbody tr th:only-of-type {\n",
       "        vertical-align: middle;\n",
       "    }\n",
       "\n",
       "    .dataframe tbody tr th {\n",
       "        vertical-align: top;\n",
       "    }\n",
       "\n",
       "    .dataframe thead th {\n",
       "        text-align: right;\n",
       "    }\n",
       "</style>\n",
       "<table border=\"1\" class=\"dataframe\">\n",
       "  <thead>\n",
       "    <tr style=\"text-align: right;\">\n",
       "      <th></th>\n",
       "      <th>실제값</th>\n",
       "      <th>예측값</th>\n",
       "      <th>오차</th>\n",
       "      <th>오차절대값</th>\n",
       "      <th>오차제곱</th>\n",
       "      <th>MAE</th>\n",
       "    </tr>\n",
       "  </thead>\n",
       "  <tbody>\n",
       "    <tr>\n",
       "      <th>0</th>\n",
       "      <td>23.6</td>\n",
       "      <td>28.838854</td>\n",
       "      <td>-5.238854</td>\n",
       "      <td>5.238854</td>\n",
       "      <td>27.445587</td>\n",
       "      <td>3.06094</td>\n",
       "    </tr>\n",
       "    <tr>\n",
       "      <th>1</th>\n",
       "      <td>32.4</td>\n",
       "      <td>36.007833</td>\n",
       "      <td>-3.607833</td>\n",
       "      <td>3.607833</td>\n",
       "      <td>13.016458</td>\n",
       "      <td>3.06094</td>\n",
       "    </tr>\n",
       "    <tr>\n",
       "      <th>2</th>\n",
       "      <td>13.6</td>\n",
       "      <td>15.083248</td>\n",
       "      <td>-1.483248</td>\n",
       "      <td>1.483248</td>\n",
       "      <td>2.200023</td>\n",
       "      <td>3.06094</td>\n",
       "    </tr>\n",
       "    <tr>\n",
       "      <th>3</th>\n",
       "      <td>22.8</td>\n",
       "      <td>25.230909</td>\n",
       "      <td>-2.430909</td>\n",
       "      <td>2.430909</td>\n",
       "      <td>5.909318</td>\n",
       "      <td>3.06094</td>\n",
       "    </tr>\n",
       "    <tr>\n",
       "      <th>4</th>\n",
       "      <td>16.1</td>\n",
       "      <td>18.878641</td>\n",
       "      <td>-2.778641</td>\n",
       "      <td>2.778641</td>\n",
       "      <td>7.720844</td>\n",
       "      <td>3.06094</td>\n",
       "    </tr>\n",
       "    <tr>\n",
       "      <th>...</th>\n",
       "      <td>...</td>\n",
       "      <td>...</td>\n",
       "      <td>...</td>\n",
       "      <td>...</td>\n",
       "      <td>...</td>\n",
       "      <td>...</td>\n",
       "    </tr>\n",
       "    <tr>\n",
       "      <th>122</th>\n",
       "      <td>8.8</td>\n",
       "      <td>3.284209</td>\n",
       "      <td>5.515791</td>\n",
       "      <td>5.515791</td>\n",
       "      <td>30.423951</td>\n",
       "      <td>3.06094</td>\n",
       "    </tr>\n",
       "    <tr>\n",
       "      <th>123</th>\n",
       "      <td>19.2</td>\n",
       "      <td>23.798796</td>\n",
       "      <td>-4.598796</td>\n",
       "      <td>4.598796</td>\n",
       "      <td>21.148926</td>\n",
       "      <td>3.06094</td>\n",
       "    </tr>\n",
       "    <tr>\n",
       "      <th>124</th>\n",
       "      <td>25.3</td>\n",
       "      <td>25.733299</td>\n",
       "      <td>-0.433299</td>\n",
       "      <td>0.433299</td>\n",
       "      <td>0.187748</td>\n",
       "      <td>3.06094</td>\n",
       "    </tr>\n",
       "    <tr>\n",
       "      <th>125</th>\n",
       "      <td>20.4</td>\n",
       "      <td>23.048156</td>\n",
       "      <td>-2.648156</td>\n",
       "      <td>2.648156</td>\n",
       "      <td>7.012731</td>\n",
       "      <td>3.06094</td>\n",
       "    </tr>\n",
       "    <tr>\n",
       "      <th>126</th>\n",
       "      <td>23.1</td>\n",
       "      <td>24.730468</td>\n",
       "      <td>-1.630468</td>\n",
       "      <td>1.630468</td>\n",
       "      <td>2.658427</td>\n",
       "      <td>3.06094</td>\n",
       "    </tr>\n",
       "  </tbody>\n",
       "</table>\n",
       "<p>127 rows × 6 columns</p>\n",
       "</div>"
      ],
      "text/plain": [
       "      실제값        예측값        오차     오차절대값       오차제곱      MAE\n",
       "0    23.6  28.838854 -5.238854  5.238854  27.445587  3.06094\n",
       "1    32.4  36.007833 -3.607833  3.607833  13.016458  3.06094\n",
       "2    13.6  15.083248 -1.483248  1.483248   2.200023  3.06094\n",
       "3    22.8  25.230909 -2.430909  2.430909   5.909318  3.06094\n",
       "4    16.1  18.878641 -2.778641  2.778641   7.720844  3.06094\n",
       "..    ...        ...       ...       ...        ...      ...\n",
       "122   8.8   3.284209  5.515791  5.515791  30.423951  3.06094\n",
       "123  19.2  23.798796 -4.598796  4.598796  21.148926  3.06094\n",
       "124  25.3  25.733299 -0.433299  0.433299   0.187748  3.06094\n",
       "125  20.4  23.048156 -2.648156  2.648156   7.012731  3.06094\n",
       "126  23.1  24.730468 -1.630468  1.630468   2.658427  3.06094\n",
       "\n",
       "[127 rows x 6 columns]"
      ]
     },
     "execution_count": 48,
     "metadata": {},
     "output_type": "execute_result"
    }
   ],
   "source": [
    "dict_dat = {'실제값':y_test, '예측값':pred, '오차':y_test - pred,\n",
    "            '오차절대값':abs(y_test - pred), '오차제곱':((y_test - pred)**2),\n",
    "           'MAE':(mean_absolute_error(y_test, pred))}\n",
    "\n",
    "dat = pd.DataFrame(dict_dat)\n",
    "dat"
   ]
  },
  {
   "cell_type": "code",
   "execution_count": 49,
   "metadata": {},
   "outputs": [
    {
     "data": {
      "text/plain": [
       "(127, 6)"
      ]
     },
     "execution_count": 49,
     "metadata": {},
     "output_type": "execute_result"
    }
   ],
   "source": [
    "dat.shape"
   ]
  },
  {
   "cell_type": "code",
   "execution_count": 50,
   "metadata": {},
   "outputs": [
    {
     "data": {
      "text/plain": [
       "3.060939595437034"
      ]
     },
     "execution_count": 50,
     "metadata": {},
     "output_type": "execute_result"
    }
   ],
   "source": [
    "### MAE\n",
    "mae_val = dat['오차절대값'].sum()/dat.shape[0]\n",
    "mae_val"
   ]
  },
  {
   "cell_type": "code",
   "execution_count": 51,
   "metadata": {},
   "outputs": [
    {
     "data": {
      "text/plain": [
       "22.098694827098036"
      ]
     },
     "execution_count": 51,
     "metadata": {},
     "output_type": "execute_result"
    }
   ],
   "source": [
    "### MSE\n",
    "mse_val = dat['오차제곱'].sum()/dat.shape[0]\n",
    "mse_val"
   ]
  },
  {
   "cell_type": "code",
   "execution_count": 52,
   "metadata": {},
   "outputs": [
    {
     "data": {
      "text/plain": [
       "4.700924890603766"
      ]
     },
     "execution_count": 52,
     "metadata": {},
     "output_type": "execute_result"
    }
   ],
   "source": [
    "### RMSE\n",
    "rmse_val = mse_val ** 0.5\n",
    "rmse_val"
   ]
  },
  {
   "cell_type": "code",
   "execution_count": 53,
   "metadata": {},
   "outputs": [
    {
     "data": {
      "text/plain": [
       "0.2889042336440167"
      ]
     },
     "execution_count": 53,
     "metadata": {},
     "output_type": "execute_result"
    }
   ],
   "source": [
    "from sklearn.metrics import mean_squared_log_error\n",
    "np.sqrt(mean_squared_log_error(abs(y_test), abs(pred)))"
   ]
  },
  {
   "cell_type": "code",
   "execution_count": 54,
   "metadata": {},
   "outputs": [
    {
     "name": "stdout",
     "output_type": "stream",
     "text": [
      "훈련 데이터 세트 점수 : 0.75\n",
      "테스트 데이터 세트 점수 : 0.68\n"
     ]
    }
   ],
   "source": [
    "# R^2의 값을 구하기- 결정계수 구하기\n",
    "print(\"훈련 데이터 세트 점수 : {:.2f}\".format(model.score(X_train, y_train)))\n",
    "print(\"테스트 데이터 세트 점수 : {:.2f}\".format(model.score(X_test, y_test)))"
   ]
  },
  {
   "cell_type": "code",
   "execution_count": 57,
   "metadata": {},
   "outputs": [
    {
     "name": "stdout",
     "output_type": "stream",
     "text": [
      "test_size :  0.1\n",
      "MAE : 2.834\n",
      "MSE : 14.996\n",
      "RMSE : 3.872\n",
      "\n",
      "test_size :  0.2\n",
      "MAE : 3.189\n",
      "MSE : 24.291\n",
      "RMSE : 4.929\n",
      "\n",
      "test_size :  0.3\n",
      "MAE : 3.163\n",
      "MSE : 21.517\n",
      "RMSE : 4.639\n",
      "\n",
      "test_size :  0.4\n",
      "MAE : 3.298\n",
      "MSE : 21.833\n",
      "RMSE : 4.673\n",
      "\n",
      "test_size :  0.5\n",
      "MAE : 3.398\n",
      "MSE : 25.175\n",
      "RMSE : 5.018\n",
      "\n",
      "test_size :  0.6\n",
      "MAE : 3.417\n",
      "MSE : 24.249\n",
      "RMSE : 4.924\n",
      "\n",
      "test_size :  0.7\n",
      "MAE : 3.360\n",
      "MSE : 25.692\n",
      "RMSE : 5.069\n",
      "\n",
      "test_size :  0.8\n",
      "MAE : 3.542\n",
      "MSE : 25.564\n",
      "RMSE : 5.056\n",
      "\n",
      "test_size :  0.9\n",
      "MAE : 3.739\n",
      "MSE : 28.014\n",
      "RMSE : 5.293\n",
      "\n"
     ]
    }
   ],
   "source": [
    "for i in range(1, 10, 1):\n",
    "    X_train, X_test, y_train, y_test = train_test_split(X, y, test_size=(i/10), random_state=42)\n",
    "\n",
    "    model = LinearRegression()\n",
    "    model.fit(X_train, y_train)\n",
    "    pred = model.predict(X_test)\n",
    "    pred[:5]\n",
    "    \n",
    "    mae = np.abs(y_test - pred).sum() / len(pred)\n",
    "    mse = ((y_test - pred)**2).sum()/len(pred)\n",
    "    rmse = (((y_test - pred)**2).sum()/len(pred))**0.5\n",
    "    \n",
    "    print(\"test_size : \",(i/10))\n",
    "    print(\"MAE : {:.3f}\".format(mae))\n",
    "    print(\"MSE : {:.3f}\".format(mse))\n",
    "    print(\"RMSE : {:.3f}\".format(rmse))\n",
    "    print(\"\")"
   ]
  },
  {
   "cell_type": "code",
   "execution_count": null,
   "metadata": {},
   "outputs": [],
   "source": []
  }
 ],
 "metadata": {
  "kernelspec": {
   "display_name": "Python 3",
   "language": "python",
   "name": "python3"
  },
  "language_info": {
   "codemirror_mode": {
    "name": "ipython",
    "version": 3
   },
   "file_extension": ".py",
   "mimetype": "text/x-python",
   "name": "python",
   "nbconvert_exporter": "python",
   "pygments_lexer": "ipython3",
   "version": "3.8.5"
  }
 },
 "nbformat": 4,
 "nbformat_minor": 4
}
